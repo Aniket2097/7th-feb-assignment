{
 "cells": [
  {
   "cell_type": "markdown",
   "id": "9ea6b205-c945-4d50-a891-5f094682a07e",
   "metadata": {},
   "source": [
    "Q1. You are writing code for a company. The requirement of the company is that you create a python function that will check whether the password entered by the user is correct or not. The function should take the password as input and return the string “Valid Password” if the entered password follows the below-given password guidelines else it should return “Invalid Password”"
   ]
  },
  {
   "cell_type": "markdown",
   "id": "6087e087-122b-44e6-b5f6-abd611fa338d",
   "metadata": {},
   "source": [
    "Note: 1. The Password should contain at least two uppercase letters and at least two lowercase letters. 2. The Password should contain at least a number and three special characters. 3. The length of the password should be 10 characters long."
   ]
  },
  {
   "cell_type": "code",
   "execution_count": 1,
   "id": "72454508-463e-45fe-b5fb-6e9821e8f3f3",
   "metadata": {},
   "outputs": [],
   "source": [
    "import string\n",
    "def password(pswrd):\n",
    "    \n",
    "    pas = \"Invalid Password\"\n",
    "    n = len(pswrd)\n",
    "    numeric_count=0\n",
    "    upper_count = 0\n",
    "    lower_count = 0\n",
    "    special_char_count = 0\n",
    "    special_char = set(string.punctuation)\n",
    "    for char in pswrd:\n",
    "        if char.isupper():\n",
    "            upper_count+=1\n",
    "        elif char.islower():\n",
    "            lower_count +=1\n",
    "        elif char in special_char:\n",
    "            special_char_count+=1\n",
    "        elif char.isnumeric():\n",
    "            numeric_count+=1\n",
    "        \n",
    "    if upper_count>=2 and lower_count>=2 and numeric_count>=1 and special_char_count==3 and n ==10:\n",
    "        pas = \"Valid Password\"\n",
    "    return pas"
   ]
  },
  {
   "cell_type": "code",
   "execution_count": null,
   "id": "d3dddcd5-bce7-403c-9db2-a3d2b17f08dd",
   "metadata": {},
   "outputs": [
    {
     "name": "stdin",
     "output_type": "stream",
     "text": [
      "ENTER THE PASSWORD 2rfsdg\n"
     ]
    },
    {
     "data": {
      "text/plain": [
       "'Invalid Password'"
      ]
     },
     "execution_count": 2,
     "metadata": {},
     "output_type": "execute_result"
    }
   ],
   "source": [
    "pswrd = input(\"ENTER THE PASSWORD\")\n",
    "password(pswrd)"
   ]
  },
  {
   "cell_type": "code",
   "execution_count": null,
   "id": "38165f41-9615-4090-af84-667b0a5e7b85",
   "metadata": {},
   "outputs": [],
   "source": []
  },
  {
   "cell_type": "code",
   "execution_count": null,
   "id": "56d3564d-7980-44f4-a5c2-343e574373c4",
   "metadata": {},
   "outputs": [],
   "source": []
  },
  {
   "cell_type": "markdown",
   "id": "2262e61f-a1da-48a0-88d3-7427fb63eeb8",
   "metadata": {},
   "source": [
    "Q2. Solve the below-given questions using at least one of the following:\n",
    "1) Lambda function\n",
    "2) Filter function\n",
    "3) Map function\n",
    "4) List Comprehension\n"
   ]
  },
  {
   "cell_type": "markdown",
   "id": "663e34ea-a1d2-403f-aed3-548a7a9b4682",
   "metadata": {},
   "source": [
    "Check if the string starts with a particular letter"
   ]
  },
  {
   "cell_type": "code",
   "execution_count": 3,
   "id": "e89762d5-41c6-4383-af7b-80238e2ba359",
   "metadata": {},
   "outputs": [
    {
     "name": "stdin",
     "output_type": "stream",
     "text": [
      "Enter string:  Aakash\n",
      "Enter letter:  A\n"
     ]
    },
    {
     "name": "stdout",
     "output_type": "stream",
     "text": [
      "'Aakash' starts with 'A'!\n"
     ]
    }
   ],
   "source": [
    "#Solution uses LAMBDA function\n",
    "\n",
    "check_start = lambda string, letter: string.startswith(letter)\n",
    "\n",
    "#Driver Code\n",
    "string = input(\"Enter string: \")\n",
    "letter = input(\"Enter letter: \")\n",
    "if check_start(string, letter):\n",
    "    print(f\"'{string}' starts with '{letter}'!\")\n",
    "else:\n",
    "    print(f\"'{string}' does not starts with '{letter}'!\")"
   ]
  },
  {
   "cell_type": "code",
   "execution_count": null,
   "id": "0f993d99-4fe5-491d-a84b-1a9623b490dd",
   "metadata": {},
   "outputs": [],
   "source": []
  },
  {
   "cell_type": "markdown",
   "id": "c9817684-44c8-4c4c-85f9-21b96875bab2",
   "metadata": {},
   "source": [
    "Check if the string is numeric"
   ]
  },
  {
   "cell_type": "code",
   "execution_count": 4,
   "id": "c7f3df91-82ae-4ade-988d-036f391686b8",
   "metadata": {},
   "outputs": [
    {
     "name": "stdin",
     "output_type": "stream",
     "text": [
      "Enter string:  3252\n"
     ]
    },
    {
     "name": "stdout",
     "output_type": "stream",
     "text": [
      "3252 is numeric!\n"
     ]
    }
   ],
   "source": [
    "\n",
    "is_numeric = lambda string : string.isnumeric()\n",
    "\n",
    "#Driver Code\n",
    "string = input(\"Enter string: \")\n",
    "if is_numeric(string):\n",
    "    print(f\"{string} is numeric!\")\n",
    "else:\n",
    "    print(f\"{string} is not numeric!\")"
   ]
  },
  {
   "cell_type": "code",
   "execution_count": null,
   "id": "dfa70983-041c-491e-819a-2e88f20c4a60",
   "metadata": {},
   "outputs": [],
   "source": []
  },
  {
   "cell_type": "markdown",
   "id": "b9a7ef81-bbb8-40cd-954c-cb1f250f64ba",
   "metadata": {},
   "source": [
    "Sort a list of tuples having fruit names and their quantity. [(\"mango\",99),(\"orange\",80), (\"grapes\", 1000)]"
   ]
  },
  {
   "cell_type": "code",
   "execution_count": 5,
   "id": "ab2bfbcb-27f5-468b-a741-e194c8cdbf3b",
   "metadata": {},
   "outputs": [
    {
     "name": "stdout",
     "output_type": "stream",
     "text": [
      "Fruits increasingly sorted according to quantity: [('orange', 80), ('mango', 99), ('grapes', 1000)]\n"
     ]
    }
   ],
   "source": [
    "# Solution uses LAMBDA function \n",
    "\n",
    "fruits = [(\"mango\",99),(\"orange\",80), (\"grapes\", 1000)]\n",
    "fruits.sort(key = lambda a : a[1])\n",
    "print(f\"Fruits increasingly sorted according to quantity: {fruits}\")"
   ]
  },
  {
   "cell_type": "code",
   "execution_count": null,
   "id": "9aea7eaf-58a9-41ad-b473-ceb181634fb1",
   "metadata": {},
   "outputs": [],
   "source": []
  },
  {
   "cell_type": "markdown",
   "id": "6aa8d4b5-0395-4532-901b-e96dbea3cbb3",
   "metadata": {},
   "source": [
    "Find the squares of numbers from 1 to 10"
   ]
  },
  {
   "cell_type": "code",
   "execution_count": 6,
   "id": "94826061-2aeb-4326-9bde-8d804a29d65f",
   "metadata": {},
   "outputs": [
    {
     "data": {
      "text/plain": [
       "[1, 4, 9, 16, 25, 36, 49, 64, 81, 100]"
      ]
     },
     "execution_count": 6,
     "metadata": {},
     "output_type": "execute_result"
    }
   ],
   "source": [
    "#using list comphrension\n",
    "\n",
    "n = [i**2 for i in range(1,11)]\n",
    "n"
   ]
  },
  {
   "cell_type": "code",
   "execution_count": null,
   "id": "f679b0ea-4578-4db6-bbed-ab8b8845527b",
   "metadata": {},
   "outputs": [],
   "source": []
  },
  {
   "cell_type": "markdown",
   "id": "4480868d-5487-455b-b321-529d9aa80b4c",
   "metadata": {},
   "source": [
    "Find the cube root of numbers from 1 to 10"
   ]
  },
  {
   "cell_type": "code",
   "execution_count": 7,
   "id": "08b0ce3a-77a5-4724-b06a-1ccdfa7190d3",
   "metadata": {},
   "outputs": [
    {
     "data": {
      "text/plain": [
       "[1, 8, 27, 64, 125, 216, 343, 512, 729, 1000]"
      ]
     },
     "execution_count": 7,
     "metadata": {},
     "output_type": "execute_result"
    }
   ],
   "source": [
    "#using map and lambda function\n",
    "l = [i for i in range(1,11)]\n",
    "c = list(map(lambda x:x**3,l))\n",
    "c"
   ]
  },
  {
   "cell_type": "code",
   "execution_count": null,
   "id": "84ee15c8-98ce-485e-a46c-d21dbf11d76e",
   "metadata": {},
   "outputs": [],
   "source": []
  },
  {
   "cell_type": "markdown",
   "id": "2b130dad-6acf-483f-80b0-8e0468510ecc",
   "metadata": {},
   "source": [
    "Check if a given number is even"
   ]
  },
  {
   "cell_type": "code",
   "execution_count": 8,
   "id": "5f7e961d-6271-4ee6-8300-0644340b8e95",
   "metadata": {},
   "outputs": [
    {
     "name": "stdin",
     "output_type": "stream",
     "text": [
      "enter the no :  9\n"
     ]
    },
    {
     "name": "stdout",
     "output_type": "stream",
     "text": [
      "Not Even\n"
     ]
    }
   ],
   "source": [
    "#using lambda function\n",
    "check = lambda x : x%2==0\n",
    "def even(n):\n",
    "    if check(n):\n",
    "        print(\"Even\")\n",
    "    else:\n",
    "        print(\"Not Even\")\n",
    "    \n",
    "n = int(input(\"enter the no : \"))\n",
    "even(n)"
   ]
  },
  {
   "cell_type": "code",
   "execution_count": null,
   "id": "74de325c-3dfe-4f28-8fce-c078d6b155b3",
   "metadata": {},
   "outputs": [],
   "source": []
  },
  {
   "cell_type": "markdown",
   "id": "77f945c6-57b8-459b-aca0-d5abc67222ab",
   "metadata": {},
   "source": [
    "Filter odd numbers from the given list. [1,2,3,4,5,6,7,8,9,10]"
   ]
  },
  {
   "cell_type": "code",
   "execution_count": 9,
   "id": "74fda60d-7178-4ad3-b07d-2cdb1b522e9d",
   "metadata": {},
   "outputs": [
    {
     "data": {
      "text/plain": [
       "[1, 3, 5, 7, 9]"
      ]
     },
     "execution_count": 9,
     "metadata": {},
     "output_type": "execute_result"
    }
   ],
   "source": [
    "l = [1,2,3,4,5,6,7,8,9,10]\n",
    "f = list(filter(lambda x : x%2!=0,l))\n",
    "f"
   ]
  },
  {
   "cell_type": "code",
   "execution_count": null,
   "id": "50fae0cf-f4f6-4125-a148-78e3d12494c1",
   "metadata": {},
   "outputs": [],
   "source": []
  },
  {
   "cell_type": "markdown",
   "id": "1b69eb10-0c7f-4e94-8314-7c30d1a7edb8",
   "metadata": {},
   "source": [
    "Sort a list of integers into positive and negative integers lists. [1,2,3,4,5,6,-1,-2,-3,-4,-5,0]"
   ]
  },
  {
   "cell_type": "code",
   "execution_count": 10,
   "id": "ba525438-e9a2-4652-bb33-c0b26cc30646",
   "metadata": {},
   "outputs": [
    {
     "name": "stdout",
     "output_type": "stream",
     "text": [
      "Positive list: [1, 2, 3, 4, 5, 6]\n",
      "Negative list: [-1, -2, -3, -4, -5]\n"
     ]
    }
   ],
   "source": [
    "#Solution uses LIST COMPREHENSION\n",
    "\n",
    "def sort_list(lst):\n",
    "    \"\"\" Created postive and negative list from given list\"\"\"\n",
    "    \n",
    "    p_list = [num for num in lst if num > 0]\n",
    "    n_list = [num for num in lst if num < 0]\n",
    "    \n",
    "    return p_list, n_list\n",
    "\n",
    "# Driver code\n",
    "lst = [1,2,3,4,5,6,-1,-2,-3,-4,-5,0]\n",
    "p_list, n_list = sort_list(lst)\n",
    "print(f\"Positive list: {p_list}\")\n",
    "print(f\"Negative list: {n_list}\")"
   ]
  },
  {
   "cell_type": "code",
   "execution_count": null,
   "id": "db7eef46-ee1e-4269-9359-9a574d1cab8e",
   "metadata": {},
   "outputs": [],
   "source": []
  },
  {
   "cell_type": "markdown",
   "id": "60d3adc1-03d4-4daf-b416-9877b9ec416c",
   "metadata": {},
   "source": [
    "the end"
   ]
  },
  {
   "cell_type": "code",
   "execution_count": null,
   "id": "924a6aa0-72bf-493d-b97c-abb98a180c6b",
   "metadata": {},
   "outputs": [],
   "source": []
  }
 ],
 "metadata": {
  "kernelspec": {
   "display_name": "Python 3 (ipykernel)",
   "language": "python",
   "name": "python3"
  },
  "language_info": {
   "codemirror_mode": {
    "name": "ipython",
    "version": 3
   },
   "file_extension": ".py",
   "mimetype": "text/x-python",
   "name": "python",
   "nbconvert_exporter": "python",
   "pygments_lexer": "ipython3",
   "version": "3.10.8"
  }
 },
 "nbformat": 4,
 "nbformat_minor": 5
}
